{
 "cells": [
  {
   "cell_type": "markdown",
   "id": "bf3c41bd-f351-40b8-99f2-05a27e0e29bd",
   "metadata": {},
   "source": [
    "# Data Science Tools and Ecosystem"
   ]
  },
  {
   "cell_type": "markdown",
   "id": "d1e61656-a841-4f08-a41f-a9ad1b2927c1",
   "metadata": {},
   "source": [
    "### In this notebook, Data Science Tools and Ecosystem are summarized."
   ]
  },
  {
   "cell_type": "markdown",
   "id": "4ad04a1c-3b32-46fe-ad9d-03c6b7a12a16",
   "metadata": {},
   "source": [
    "#### Objectives:\n",
    "- List popular languages for Data Science\n",
    "- List common libraries used by Data scientists\n",
    "- List Data science tools\n",
    "- Give examples of evaluating arithmethic expressions in python"
   ]
  },
  {
   "cell_type": "markdown",
   "id": "1c5a91eb-527a-40e6-b565-8564d89a698a",
   "metadata": {},
   "source": [
    "##### Some of the popular languages that Data Scientists use are:"
   ]
  },
  {
   "cell_type": "markdown",
   "id": "a6e08363-7a14-48d4-bae8-dadd3ccdefb6",
   "metadata": {},
   "source": [
    "1. Python programming Language\n",
    "2. R programming language\n",
    "3. SQL\n",
    "4. Javascript"
   ]
  },
  {
   "cell_type": "markdown",
   "id": "6a4f5898-7929-4654-b97f-b4b093ca20b9",
   "metadata": {},
   "source": [
    "##### Some of the commonly used libraries used by Data Scientists include:"
   ]
  },
  {
   "cell_type": "markdown",
   "id": "4985e668-ce92-4dca-ab4c-eab9f1892716",
   "metadata": {},
   "source": [
    "1. Python libraries\n",
    "2. Scientifics computing libraries in python\n",
    "3. Machine learning and deep learning libraries in python\n",
    "4. Visualizaton libraries\n",
    "5. R libraries\n"
   ]
  },
  {
   "cell_type": "markdown",
   "id": "0a84a95b-70ee-4bc2-bf22-9aefc857e010",
   "metadata": {},
   "source": [
    "| Data Science Tools |\n",
    "|-------------------|\n",
    "| Jupyter notebook |\n",
    "| Apache Zeppelin |\n",
    "| R studio |\n"
   ]
  },
  {
   "cell_type": "markdown",
   "id": "deedcc9a-bc1a-4acb-b388-5c81a6e03923",
   "metadata": {},
   "source": [
    "##### Below are a few examples of evaluating arithmetic expressions in Python"
   ]
  },
  {
   "cell_type": "code",
   "execution_count": 4,
   "id": "62b07d61-009f-49ea-b4c6-48d0c6d9b626",
   "metadata": {},
   "outputs": [
    {
     "data": {
      "text/plain": [
       "17"
      ]
     },
     "execution_count": 4,
     "metadata": {},
     "output_type": "execute_result"
    }
   ],
   "source": [
    "# This a simple arithmetic expression to mutiply then add integers\n",
    "(3*4)+5"
   ]
  },
  {
   "cell_type": "code",
   "execution_count": 6,
   "id": "d48bbf77-1d88-46f9-8e56-6501961b6d00",
   "metadata": {},
   "outputs": [
    {
     "name": "stdout",
     "output_type": "stream",
     "text": [
      "3.3333333333333335\n"
     ]
    }
   ],
   "source": [
    "# This will convert 200 minutes to hours by diving by 60\n",
    "def minutes_into_hours(minutes):\n",
    "    return minutes / 60\n",
    "\n",
    "r = minutes_into_hours(200)\n",
    "print(r)"
   ]
  },
  {
   "cell_type": "markdown",
   "id": "87f21137-4bb1-46b3-9550-4fd21ff368db",
   "metadata": {},
   "source": [
    "## Author"
   ]
  },
  {
   "cell_type": "markdown",
   "id": "140ec945-7a12-44ee-9050-163eac5b1761",
   "metadata": {},
   "source": [
    "Josemaria K. Claude"
   ]
  },
  {
   "cell_type": "code",
   "execution_count": null,
   "id": "bc092d13-a3fc-44c6-83ed-285593b85056",
   "metadata": {},
   "outputs": [],
   "source": []
  }
 ],
 "metadata": {
  "kernelspec": {
   "display_name": "Python 3 (ipykernel)",
   "language": "python",
   "name": "python3"
  },
  "language_info": {
   "codemirror_mode": {
    "name": "ipython",
    "version": 3
   },
   "file_extension": ".py",
   "mimetype": "text/x-python",
   "name": "python",
   "nbconvert_exporter": "python",
   "pygments_lexer": "ipython3",
   "version": "3.11.7"
  }
 },
 "nbformat": 4,
 "nbformat_minor": 5
}
